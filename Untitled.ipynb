{
 "cells": [
  {
   "cell_type": "code",
   "execution_count": 6,
   "id": "cd2975f6",
   "metadata": {},
   "outputs": [
    {
     "name": "stdout",
     "output_type": "stream",
     "text": [
      "4\n",
      "4\n",
      "3\n",
      "2\n",
      "1\n",
      "24\n"
     ]
    }
   ],
   "source": [
    "\"\"\" exercice 2\n",
    "Écrire un programme capable de calculer la factorielle d'un nombre donné.\n",
    "(la factorielle de n est le produit de tous les entiers positifs inférieurs ou égaux à n).\n",
    "par exemple factoriel(5)= 5 x 4 x 3 x 2 x 1 le résultat est 120. (c'est-à-dire factoriel (0)=1)\n",
    "\"\"\"\n",
    "i = int(input())\n",
    "d = 0\n",
    "t = 1\n",
    "while i > 0 :\n",
    "    print(i)\n",
    "    d = i\n",
    "    i = i - 1\n",
    "    t = d * t \n",
    "print(t)"
   ]
  },
  {
   "cell_type": "code",
   "execution_count": 3,
   "id": "745ce128",
   "metadata": {},
   "outputs": [
    {
     "name": "stdout",
     "output_type": "stream",
     "text": [
      "entrer un nombre3\n",
      "{1: 1, 2: 4, 3: 9}\n"
     ]
    }
   ],
   "source": [
    "\"\"\" exercice 3\n",
    "Avec un nombre entier n donné, écrivez un programme \n",
    "pour générer un dictionnaire qui contient (i, i*i)\n",
    "tel qu'il soit un nombre entier compris entre 1 et n (tous deux inclus). \n",
    "puis le programme devrait imprimer le dictionnaire.\n",
    "Supposons que l'entrée suivante soit fournie au programme : \n",
    "8 Ensuite, la sortie doit être :\n",
    "{1 : 1, 2 : 4, 3 : 9, 4 : 16, 5 : 25, 6 : 36, 7 : 49, 8 : 64 }  \"\"\"\n",
    "\n",
    "n = int(input('entrer un nombre'))\n",
    "tabdic = ({})\n",
    "for i in range(1, n+1):\n",
    "    if i != 0:\n",
    "        tabdic.update( {i : i*i} )\n",
    "print(tabdic)\n",
    "\n"
   ]
  },
  {
   "cell_type": "code",
   "execution_count": 5,
   "id": "0f8606f3",
   "metadata": {},
   "outputs": [
    {
     "name": "stdout",
     "output_type": "stream",
     "text": [
      "[2002, 2009, 2016, 2023, 2037, 2044, 2051, 2058, 2072, 2079, 2086, 2093, 2107, 2114, 2121, 2128, 2142, 2149, 2156, 2163, 2177, 2184, 2191, 2198, 2212, 2219, 2226, 2233, 2247, 2254, 2261, 2268, 2282, 2289, 2296, 2303, 2317, 2324, 2331, 2338, 2352, 2359, 2366, 2373, 2387, 2394, 2401, 2408, 2422, 2429, 2436, 2443, 2457, 2464, 2471, 2478, 2492, 2499, 2506, 2513, 2527, 2534, 2541, 2548, 2562, 2569, 2576, 2583, 2597, 2604, 2611, 2618, 2632, 2639, 2646, 2653, 2667, 2674, 2681, 2688, 2702, 2709, 2716, 2723, 2737, 2744, 2751, 2758, 2772, 2779, 2786, 2793, 2807, 2814, 2821, 2828, 2842, 2849, 2856, 2863, 2877, 2884, 2891, 2898, 2912, 2919, 2926, 2933, 2947, 2954, 2961, 2968, 2982, 2989, 2996]\n"
     ]
    }
   ],
   "source": [
    "\"\"\" exercice 1\n",
    "Écrivez un programme qui trouvera tous les nombres divisibles par 7 mais non multiples de 5, entre 2000 et 3200 (les deux inclus). Les nombres obtenus doivent être imprimés dans une liste.\n",
    "\n",
    "Conseils : pensez à utiliser la méthode range(#begin, #end).\n",
    "\"\"\"\n",
    "d= []\n",
    "for i in range(2000, 3001):\n",
    "    if i % 7 == 0 and i % 5 != 0 :\n",
    "        d.append(i)\n",
    "print(d)"
   ]
  },
  {
   "cell_type": "code",
   "execution_count": 9,
   "id": "badfd45d",
   "metadata": {},
   "outputs": [],
   "source": [
    "\"\"\" exercice 4\n",
    "Étant donné une chaîne non vide et un int n, renvoie une nouvelle chaîne où le caractère\n",
    "à l'index n a été supprimé. La valeur de n sera un index valide d'un caractère dans \n",
    "la chaîne d'origine (c'est-à-dire que n sera compris entre 0..len(str)-1 inclus). \n",
    "\n",
    "missing_char('kitten', 1) → 'ktten' par exemple ici on supprime \"i\" qui se trouve dans l'index 1\n",
    "\n",
    "missing_char('kitten', 0) → 'itten' ici on supprime \"k\" qui est dans l'index 0\n",
    "\n",
    "missing_char('kitten', 4) → 'kittn' ici on supprime \"e\" qui est dans l'index 4\n",
    "\"\"\"\n",
    "def nomr(a,b):\n",
    "    chaine = str(input('entrer un mot')) # le mot de type à entrer\n",
    "    n = int(input('entrer un entier')) # l'index à recuperer\n",
    "    chaine = list(chaine) #convertion de chaine en liste\n",
    "    if n>len(chaine):\n",
    "        print(\"l'indexe est or plage\")\n",
    "    else:\n",
    "        del chaine[n] # suppression de la lettre en fonction de l'index recuperer\n",
    "    str(chaine) #reconvertion de la liste en chaine \n",
    "    strchaine = \"\".join(chaine) #concatenation des la chaine\n",
    "    print(strchaine)\n",
    "    nomr(chaine,n)"
   ]
  },
  {
   "cell_type": "code",
   "execution_count": 1,
   "id": "7d35b924",
   "metadata": {},
   "outputs": [
    {
     "name": "stdout",
     "output_type": "stream",
     "text": [
      "[[0, 1], [2, 3], [4, 5]]\n"
     ]
    }
   ],
   "source": [
    "\"\"\" exercice 5\n",
    "Écrivez un programme NumPy pour convertir un tableau NumPy en une structure de liste Python.\n",
    "\n",
    "Production attendue: \n",
    "\n",
    "Éléments du tableau d'origine : [[0 1] [2 3] [4 5]] \n",
    "\n",
    "Tableau à liste : [[0, 1], [2, 3], [4, 5]] \n",
    " \"\"\"\n",
    "import numpy as np\n",
    "tab = np.array([[0 , 1],[2 , 3],[4 , 5]])\n",
    "\n",
    "print(tab.tolist())"
   ]
  },
  {
   "cell_type": "code",
   "execution_count": null,
   "id": "13bb3d30",
   "metadata": {},
   "outputs": [],
   "source": [
    "\"\"\" exercice 6\n",
    "Écrivez un programme NumPy pour calculer la matrice de covariance de deux tableaux donnés. \n",
    "\n",
    "Tableau d'origine1 : [0 1 2] \n",
    "\n",
    "Tableau d'origine2 : [2 1 0] \n",
    "\n",
    "Matrice de covariance desdits tableaux : [[ 1. -1.] [-1. 1.]]\n",
    " \n",
    "\n",
    "Astuce : Nous pouvons utiliser la fonction np.cov() pour calculer la covariance entre ces deux tableaux\"\"\"\n",
    "import numpy as np\n",
    "\n",
    "matrice1 = np.array([0,1,2])\n",
    "matrice2 = np.array([2,1,0])\n",
    "\n",
    "covariance = np.cov(matrice1, matrice2)[-1][1]\n",
    "print(covariance)"
   ]
  },
  {
   "cell_type": "code",
   "execution_count": null,
   "id": "ddb2ca2b",
   "metadata": {},
   "outputs": [],
   "source": [
    "\"\"\" exercice 7\n",
    "Question : Écrivez un programme qui calcule et imprime la valeur selon la formule donnée : Q = Racine carrée de [(2 * C * D)/H] \n",
    "\n",
    "Voici les valeurs fixes de C et H : C est 50. H est 30. \n",
    "\n",
    "D est la variable dont les valeurs doivent être entrées dans votre programme\n",
    "dans une séquence séparée par des virgules. (cela signifie que D contient plus que la valeur)\n",
    "\n",
    "Exemple Supposons que la séquence d'entrées séparées par des virgules \n",
    "suivante est donnée au programme : 100,150,180 La sortie du programme doit être : 18,22,24 \n",
    "\n",
    "Pour expliquer cela plus en détail, nous obtiendrons un résultat\n",
    "pour chaque valeur de D : \n",
    "Q1= Racine carrée de [(2 * C * 100)/H] =18, Q2= Racine carrée de [(2 * C * 150)/H ] = 22 et\n",
    "Q3 = Racine carrée de [(2 * C * 180)/H] = 24\n",
    "\n",
    "Conseils : Si la sortie reçue est sous forme décimale, elle doit être arrondie à\n",
    "sa valeur la plus proche (par exemple, si la sortie reçue est 26,0, elle doit être imprimée sous la forme 26)\n",
    "En cas de données d'entrée fournies à la question, il doit être supposé être une entrée de console. \"\"\"\n",
    "c = 50\n",
    "h = 30\n",
    "d = []\n",
    "for i in range(3):\n",
    "    p = float(input(\"entrez un nombre\"))\n",
    "    d.append(p)\n",
    "    \n",
    "from math import *\n",
    "for i in range(3):\n",
    "    q = sqrt((2 * c * d[i])/h)\n",
    "    print(round(q), end = ',')"
   ]
  }
 ],
 "metadata": {
  "kernelspec": {
   "display_name": "Python 3 (ipykernel)",
   "language": "python",
   "name": "python3"
  },
  "language_info": {
   "codemirror_mode": {
    "name": "ipython",
    "version": 3
   },
   "file_extension": ".py",
   "mimetype": "text/x-python",
   "name": "python",
   "nbconvert_exporter": "python",
   "pygments_lexer": "ipython3",
   "version": "3.9.7"
  }
 },
 "nbformat": 4,
 "nbformat_minor": 5
}
